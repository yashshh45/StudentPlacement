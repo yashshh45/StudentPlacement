{
 "cells": [
  {
   "cell_type": "markdown",
   "id": "8c222e9e",
   "metadata": {},
   "source": [
    "**Import necessary libraries**"
   ]
  },
  {
   "cell_type": "code",
   "execution_count": 1,
   "id": "412af6ba",
   "metadata": {},
   "outputs": [],
   "source": [
    "import pandas as pd\n",
    "import numpy as np\n",
    "from sklearn.ensemble import RandomForestClassifier\n",
    "from sklearn.model_selection import train_test_split\n",
    "from sklearn.linear_model import LogisticRegression\n",
    "from sklearn.metrics import accuracy_score"
   ]
  },
  {
   "cell_type": "markdown",
   "id": "d2071f10",
   "metadata": {},
   "source": [
    "**Load and preprocess the training data**"
   ]
  },
  {
   "cell_type": "code",
   "execution_count": 2,
   "id": "94dea3a7",
   "metadata": {},
   "outputs": [],
   "source": [
    "train_data = pd.read_excel('01 Train Data.xlsx')\n",
    "df = pd.DataFrame(train_data)"
   ]
  },
  {
   "cell_type": "markdown",
   "id": "c7bab745",
   "metadata": {},
   "source": [
    "**Remove duplicate rows based on 'Email ID'**"
   ]
  },
  {
   "cell_type": "code",
   "execution_count": 3,
   "id": "069d6348",
   "metadata": {},
   "outputs": [],
   "source": [
    "df = df.drop_duplicates(subset='Email ID', keep='first')"
   ]
  },
  {
   "cell_type": "code",
   "execution_count": 4,
   "id": "f6ecb29c",
   "metadata": {},
   "outputs": [
    {
     "data": {
      "text/plain": [
       "array([nan, '2021', 'Friend', '2023', 'Third year', 'Second year', '2022',\n",
       "       '2020', '1999', '2016', 'Final Year', 'Fourth Year', 'B.Tech',\n",
       "       '2019', 'Pursuing', 'AISSMS', 'Bachelor of Engineering ', '2024'],\n",
       "      dtype=object)"
      ]
     },
     "execution_count": 4,
     "metadata": {},
     "output_type": "execute_result"
    }
   ],
   "source": [
    "df['Year of Graduation'].unique()"
   ]
  },
  {
   "cell_type": "code",
   "execution_count": 5,
   "id": "e5f8072a",
   "metadata": {},
   "outputs": [
    {
     "data": {
      "text/plain": [
       "(1987, 23)"
      ]
     },
     "execution_count": 5,
     "metadata": {},
     "output_type": "execute_result"
    }
   ],
   "source": [
    "df.shape"
   ]
  },
  {
   "cell_type": "code",
   "execution_count": 6,
   "id": "a9b7c0f2",
   "metadata": {},
   "outputs": [],
   "source": [
    "columns_to_remove = [\n",
    "    'Price Tier', 'Group', 'Email ID', 'Quantity', 'Total Paid', 'Fees Paid',\n",
    "    'Eventbrite Fees', 'Eventbrite Payment Processing', 'Order Type', 'Currency',\n",
    "    'Attendee #', 'How did you come to know about this event?',\n",
    "    'Specify in \"Others\" (how did you come to know about this event)', 'First Name', 'College Name', 'Ticket Type',\n",
    "    'Designation', 'Attendee Status'\n",
    "]"
   ]
  },
  {
   "cell_type": "markdown",
   "id": "6a4a9e7b",
   "metadata": {},
   "source": [
    "**Drop specified columns from the DataFrame**"
   ]
  },
  {
   "cell_type": "code",
   "execution_count": 7,
   "id": "d76bc556",
   "metadata": {},
   "outputs": [],
   "source": [
    "df.drop(columns_to_remove, axis=1, inplace=True)"
   ]
  },
  {
   "cell_type": "code",
   "execution_count": 8,
   "id": "8ed8aa5e",
   "metadata": {
    "scrolled": false
   },
   "outputs": [
    {
     "data": {
      "text/html": [
       "<div>\n",
       "<style scoped>\n",
       "    .dataframe tbody tr th:only-of-type {\n",
       "        vertical-align: middle;\n",
       "    }\n",
       "\n",
       "    .dataframe tbody tr th {\n",
       "        vertical-align: top;\n",
       "    }\n",
       "\n",
       "    .dataframe thead th {\n",
       "        text-align: right;\n",
       "    }\n",
       "</style>\n",
       "<table border=\"1\" class=\"dataframe\">\n",
       "  <thead>\n",
       "    <tr style=\"text-align: right;\">\n",
       "      <th></th>\n",
       "      <th>Year of Graduation</th>\n",
       "      <th>CGPA</th>\n",
       "      <th>Speaking Skills</th>\n",
       "      <th>ML Knowledge</th>\n",
       "      <th>Placement Status</th>\n",
       "    </tr>\n",
       "  </thead>\n",
       "  <tbody>\n",
       "    <tr>\n",
       "      <th>0</th>\n",
       "      <td>NaN</td>\n",
       "      <td>6.7</td>\n",
       "      <td>2</td>\n",
       "      <td>5</td>\n",
       "      <td>Placed</td>\n",
       "    </tr>\n",
       "    <tr>\n",
       "      <th>1</th>\n",
       "      <td>NaN</td>\n",
       "      <td>8.2</td>\n",
       "      <td>3</td>\n",
       "      <td>2</td>\n",
       "      <td>Not placed</td>\n",
       "    </tr>\n",
       "    <tr>\n",
       "      <th>2</th>\n",
       "      <td>NaN</td>\n",
       "      <td>6.5</td>\n",
       "      <td>4</td>\n",
       "      <td>3</td>\n",
       "      <td>Not placed</td>\n",
       "    </tr>\n",
       "    <tr>\n",
       "      <th>3</th>\n",
       "      <td>NaN</td>\n",
       "      <td>8.7</td>\n",
       "      <td>2</td>\n",
       "      <td>5</td>\n",
       "      <td>Not placed</td>\n",
       "    </tr>\n",
       "    <tr>\n",
       "      <th>4</th>\n",
       "      <td>NaN</td>\n",
       "      <td>9.1</td>\n",
       "      <td>3</td>\n",
       "      <td>5</td>\n",
       "      <td>Placed</td>\n",
       "    </tr>\n",
       "  </tbody>\n",
       "</table>\n",
       "</div>"
      ],
      "text/plain": [
       "  Year of Graduation  CGPA  Speaking Skills  ML Knowledge Placement Status\n",
       "0                NaN   6.7                2             5           Placed\n",
       "1                NaN   8.2                3             2       Not placed\n",
       "2                NaN   6.5                4             3       Not placed\n",
       "3                NaN   8.7                2             5       Not placed\n",
       "4                NaN   9.1                3             5           Placed"
      ]
     },
     "execution_count": 8,
     "metadata": {},
     "output_type": "execute_result"
    }
   ],
   "source": [
    "df.head()"
   ]
  },
  {
   "cell_type": "code",
   "execution_count": 9,
   "id": "a422a082",
   "metadata": {},
   "outputs": [
    {
     "data": {
      "text/plain": [
       "1321"
      ]
     },
     "execution_count": 9,
     "metadata": {},
     "output_type": "execute_result"
    }
   ],
   "source": [
    "df['Placement Status'].isnull().sum()"
   ]
  },
  {
   "cell_type": "code",
   "execution_count": 10,
   "id": "52dfd6b7",
   "metadata": {},
   "outputs": [
    {
     "data": {
      "text/plain": [
       "666"
      ]
     },
     "execution_count": 10,
     "metadata": {},
     "output_type": "execute_result"
    }
   ],
   "source": [
    "df['Placement Status'].count()"
   ]
  },
  {
   "cell_type": "markdown",
   "id": "fd9b229e",
   "metadata": {},
   "source": [
    "**Map 'Placement Status' values: 'Placed' to 1, 'Not placed' to 0, and fill NaN with 2, then convert to integers**"
   ]
  },
  {
   "cell_type": "code",
   "execution_count": 11,
   "id": "d4756b41",
   "metadata": {},
   "outputs": [],
   "source": [
    "df['Placement Status'] = df['Placement Status'].map({'Placed': 1, 'Not placed': 0}).fillna(2).astype(int)"
   ]
  },
  {
   "cell_type": "code",
   "execution_count": 12,
   "id": "728f4009",
   "metadata": {},
   "outputs": [
    {
     "data": {
      "text/plain": [
       "Year of Graduation    1707\n",
       "CGPA                     0\n",
       "Speaking Skills          0\n",
       "ML Knowledge             0\n",
       "Placement Status         0\n",
       "dtype: int64"
      ]
     },
     "execution_count": 12,
     "metadata": {},
     "output_type": "execute_result"
    }
   ],
   "source": [
    "df.isnull().sum()"
   ]
  },
  {
   "cell_type": "code",
   "execution_count": 13,
   "id": "a8418d62",
   "metadata": {},
   "outputs": [
    {
     "data": {
      "text/plain": [
       "array([1, 0, 2])"
      ]
     },
     "execution_count": 13,
     "metadata": {},
     "output_type": "execute_result"
    }
   ],
   "source": [
    "df['Placement Status'].unique()"
   ]
  },
  {
   "cell_type": "markdown",
   "id": "57d73762",
   "metadata": {},
   "source": [
    "**Define values to remove from 'Year of Graduation' column and\n",
    "Filter the DataFrame to exclude rows with specified values**"
   ]
  },
  {
   "cell_type": "code",
   "execution_count": 14,
   "id": "6d35cce8",
   "metadata": {},
   "outputs": [],
   "source": [
    "values_to_remove = ['AISSMS', 'Bachelor of Engineering ','Friend','Pursuing', 'B.Tech']\n",
    "\n",
    "df = df[~df['Year of Graduation'].isin(values_to_remove)]"
   ]
  },
  {
   "cell_type": "code",
   "execution_count": 15,
   "id": "5cd3daaa",
   "metadata": {},
   "outputs": [
    {
     "data": {
      "text/plain": [
       "(1980, 5)"
      ]
     },
     "execution_count": 15,
     "metadata": {},
     "output_type": "execute_result"
    }
   ],
   "source": [
    "df.shape"
   ]
  },
  {
   "cell_type": "markdown",
   "id": "89d2bb1d",
   "metadata": {},
   "source": [
    "**Fill NaN values in 'Year of Graduation' with -1**"
   ]
  },
  {
   "cell_type": "code",
   "execution_count": 16,
   "id": "a464c53e",
   "metadata": {
    "scrolled": true
   },
   "outputs": [],
   "source": [
    "df['Year of Graduation'] = df['Year of Graduation'].fillna(-1)\n"
   ]
  },
  {
   "cell_type": "markdown",
   "id": "fe73eeb1",
   "metadata": {},
   "source": [
    "**Define a custom mapping for 'Year of Graduation'**"
   ]
  },
  {
   "cell_type": "code",
   "execution_count": 17,
   "id": "93890170",
   "metadata": {},
   "outputs": [],
   "source": [
    "custom_mapping = {'Third year': '3','Second year': '2', 'Final Year': '4', 'Fourth Year': '4'}\n",
    "\n",
    "df['Year of Graduation'].replace(custom_mapping, inplace=True)\n",
    "\n",
    "df['Year of Graduation'] = pd.to_numeric(df['Year of Graduation'], errors='coerce')"
   ]
  },
  {
   "cell_type": "code",
   "execution_count": 18,
   "id": "8d3f992a",
   "metadata": {},
   "outputs": [
    {
     "data": {
      "text/plain": [
       "array([  -1, 2021, 2023,    3,    2, 2022, 2020, 1999, 2016,    4, 2019,\n",
       "       2024])"
      ]
     },
     "execution_count": 18,
     "metadata": {},
     "output_type": "execute_result"
    }
   ],
   "source": [
    "df['Year of Graduation'].unique()"
   ]
  },
  {
   "cell_type": "code",
   "execution_count": 19,
   "id": "ee7cc6d0",
   "metadata": {},
   "outputs": [
    {
     "name": "stdout",
     "output_type": "stream",
     "text": [
      "Data Type of 'Year of Graduation' Column: int64\n"
     ]
    }
   ],
   "source": [
    "column_data_type = df['Year of Graduation'].dtype\n",
    "\n",
    "print(\"Data Type of 'Year of Graduation' Column:\", column_data_type)"
   ]
  },
  {
   "cell_type": "code",
   "execution_count": 20,
   "id": "210a5f2c",
   "metadata": {},
   "outputs": [
    {
     "data": {
      "text/html": [
       "<div>\n",
       "<style scoped>\n",
       "    .dataframe tbody tr th:only-of-type {\n",
       "        vertical-align: middle;\n",
       "    }\n",
       "\n",
       "    .dataframe tbody tr th {\n",
       "        vertical-align: top;\n",
       "    }\n",
       "\n",
       "    .dataframe thead th {\n",
       "        text-align: right;\n",
       "    }\n",
       "</style>\n",
       "<table border=\"1\" class=\"dataframe\">\n",
       "  <thead>\n",
       "    <tr style=\"text-align: right;\">\n",
       "      <th></th>\n",
       "      <th>Year of Graduation</th>\n",
       "      <th>CGPA</th>\n",
       "      <th>Speaking Skills</th>\n",
       "      <th>ML Knowledge</th>\n",
       "      <th>Placement Status</th>\n",
       "    </tr>\n",
       "  </thead>\n",
       "  <tbody>\n",
       "    <tr>\n",
       "      <th>0</th>\n",
       "      <td>-1</td>\n",
       "      <td>6.7</td>\n",
       "      <td>2</td>\n",
       "      <td>5</td>\n",
       "      <td>1</td>\n",
       "    </tr>\n",
       "    <tr>\n",
       "      <th>1</th>\n",
       "      <td>-1</td>\n",
       "      <td>8.2</td>\n",
       "      <td>3</td>\n",
       "      <td>2</td>\n",
       "      <td>0</td>\n",
       "    </tr>\n",
       "    <tr>\n",
       "      <th>2</th>\n",
       "      <td>-1</td>\n",
       "      <td>6.5</td>\n",
       "      <td>4</td>\n",
       "      <td>3</td>\n",
       "      <td>0</td>\n",
       "    </tr>\n",
       "    <tr>\n",
       "      <th>3</th>\n",
       "      <td>-1</td>\n",
       "      <td>8.7</td>\n",
       "      <td>2</td>\n",
       "      <td>5</td>\n",
       "      <td>0</td>\n",
       "    </tr>\n",
       "    <tr>\n",
       "      <th>4</th>\n",
       "      <td>-1</td>\n",
       "      <td>9.1</td>\n",
       "      <td>3</td>\n",
       "      <td>5</td>\n",
       "      <td>1</td>\n",
       "    </tr>\n",
       "  </tbody>\n",
       "</table>\n",
       "</div>"
      ],
      "text/plain": [
       "   Year of Graduation  CGPA  Speaking Skills  ML Knowledge  Placement Status\n",
       "0                  -1   6.7                2             5                 1\n",
       "1                  -1   8.2                3             2                 0\n",
       "2                  -1   6.5                4             3                 0\n",
       "3                  -1   8.7                2             5                 0\n",
       "4                  -1   9.1                3             5                 1"
      ]
     },
     "execution_count": 20,
     "metadata": {},
     "output_type": "execute_result"
    }
   ],
   "source": [
    "df.head()"
   ]
  },
  {
   "cell_type": "markdown",
   "id": "3ed7aa16",
   "metadata": {},
   "source": [
    "**Load and preprocess the test data**"
   ]
  },
  {
   "cell_type": "code",
   "execution_count": 21,
   "id": "0bdb19fa",
   "metadata": {},
   "outputs": [],
   "source": [
    "test_data = pd.read_excel('02 Test Data.xlsx')\n",
    "dt = pd.DataFrame(test_data)"
   ]
  },
  {
   "cell_type": "code",
   "execution_count": 22,
   "id": "66c15265",
   "metadata": {},
   "outputs": [
    {
     "data": {
      "text/plain": [
       "(3796, 23)"
      ]
     },
     "execution_count": 22,
     "metadata": {},
     "output_type": "execute_result"
    }
   ],
   "source": [
    "dt.shape"
   ]
  },
  {
   "cell_type": "markdown",
   "id": "6b49e4a8",
   "metadata": {},
   "source": [
    "**Perform the same preprocessing on the test dataset as done above for the above train data**"
   ]
  },
  {
   "cell_type": "code",
   "execution_count": 23,
   "id": "662b74d4",
   "metadata": {},
   "outputs": [],
   "source": [
    "dt = dt.drop_duplicates(subset='Email ID', keep='first')"
   ]
  },
  {
   "cell_type": "code",
   "execution_count": 24,
   "id": "84997d14",
   "metadata": {},
   "outputs": [],
   "source": [
    "columns_to_remove = [\n",
    "    'Price Tier', 'Group', 'Email ID', 'Quantity', 'Total Paid', 'Fees Paid',\n",
    "    'Eventbrite Fees', 'Eventbrite Payment Processing', 'Order Type', 'Currency',\n",
    "    'Attendee #', 'How did you come to know about this event?',\n",
    "    'Specify in \"Others\" (how did you come to know about this event)', 'First Name', 'College Name', 'Ticket Type',\n",
    "    'Designation', 'Attendee Status'\n",
    "]"
   ]
  },
  {
   "cell_type": "code",
   "execution_count": 25,
   "id": "82c1dadf",
   "metadata": {},
   "outputs": [],
   "source": [
    "dt.drop(columns_to_remove, axis=1, inplace=True)"
   ]
  },
  {
   "cell_type": "code",
   "execution_count": 26,
   "id": "35cb4d5c",
   "metadata": {},
   "outputs": [
    {
     "data": {
      "text/html": [
       "<div>\n",
       "<style scoped>\n",
       "    .dataframe tbody tr th:only-of-type {\n",
       "        vertical-align: middle;\n",
       "    }\n",
       "\n",
       "    .dataframe tbody tr th {\n",
       "        vertical-align: top;\n",
       "    }\n",
       "\n",
       "    .dataframe thead th {\n",
       "        text-align: right;\n",
       "    }\n",
       "</style>\n",
       "<table border=\"1\" class=\"dataframe\">\n",
       "  <thead>\n",
       "    <tr style=\"text-align: right;\">\n",
       "      <th></th>\n",
       "      <th>Year of Graduation</th>\n",
       "      <th>CGPA</th>\n",
       "      <th>Speaking Skills</th>\n",
       "      <th>ML Knowledge</th>\n",
       "      <th>Placement Status</th>\n",
       "    </tr>\n",
       "  </thead>\n",
       "  <tbody>\n",
       "    <tr>\n",
       "      <th>0</th>\n",
       "      <td>NaN</td>\n",
       "      <td>7.8</td>\n",
       "      <td>3</td>\n",
       "      <td>3</td>\n",
       "      <td>NaN</td>\n",
       "    </tr>\n",
       "    <tr>\n",
       "      <th>1</th>\n",
       "      <td>NaN</td>\n",
       "      <td>9.1</td>\n",
       "      <td>3</td>\n",
       "      <td>3</td>\n",
       "      <td>NaN</td>\n",
       "    </tr>\n",
       "    <tr>\n",
       "      <th>2</th>\n",
       "      <td>NaN</td>\n",
       "      <td>6.9</td>\n",
       "      <td>2</td>\n",
       "      <td>2</td>\n",
       "      <td>NaN</td>\n",
       "    </tr>\n",
       "    <tr>\n",
       "      <th>3</th>\n",
       "      <td>NaN</td>\n",
       "      <td>8.4</td>\n",
       "      <td>4</td>\n",
       "      <td>4</td>\n",
       "      <td>NaN</td>\n",
       "    </tr>\n",
       "    <tr>\n",
       "      <th>4</th>\n",
       "      <td>NaN</td>\n",
       "      <td>6.7</td>\n",
       "      <td>5</td>\n",
       "      <td>5</td>\n",
       "      <td>NaN</td>\n",
       "    </tr>\n",
       "  </tbody>\n",
       "</table>\n",
       "</div>"
      ],
      "text/plain": [
       "  Year of Graduation  CGPA  Speaking Skills  ML Knowledge  Placement Status\n",
       "0                NaN   7.8                3             3               NaN\n",
       "1                NaN   9.1                3             3               NaN\n",
       "2                NaN   6.9                2             2               NaN\n",
       "3                NaN   8.4                4             4               NaN\n",
       "4                NaN   6.7                5             5               NaN"
      ]
     },
     "execution_count": 26,
     "metadata": {},
     "output_type": "execute_result"
    }
   ],
   "source": [
    "dt.head()"
   ]
  },
  {
   "cell_type": "code",
   "execution_count": 27,
   "id": "f2852090",
   "metadata": {},
   "outputs": [],
   "source": [
    "values_to_remove_t = ['AISSMS', 'Bachelor of Engineering ','Friend','Pursuing', 'B.Tech','i am student in 12 commerce']\n",
    "\n",
    "dt = dt[~dt['Year of Graduation'].isin(values_to_remove_t)]"
   ]
  },
  {
   "cell_type": "code",
   "execution_count": 28,
   "id": "9e853d4b",
   "metadata": {},
   "outputs": [],
   "source": [
    "dt['Year of Graduation'] = dt['Year of Graduation'].fillna(-1)"
   ]
  },
  {
   "cell_type": "code",
   "execution_count": 29,
   "id": "82b0605f",
   "metadata": {},
   "outputs": [],
   "source": [
    "custom_mapping_t = {'Third year': '3','Second year': '2', 'Final Year': '4', 'Fourth Year': '4','Last Year':'4'}\n",
    "\n",
    "dt['Year of Graduation'].replace(custom_mapping_t, inplace=True)\n",
    "\n",
    "dt['Year of Graduation'] = pd.to_numeric(dt['Year of Graduation'], errors='coerce')"
   ]
  },
  {
   "cell_type": "code",
   "execution_count": 30,
   "id": "c8201ced",
   "metadata": {},
   "outputs": [
    {
     "data": {
      "text/plain": [
       "array([  -1,    2, 2023, 2021, 2019, 2022,    3,    4, 2020, 2016, 1999,\n",
       "       2013, 2015, 2000, 2017, 2024, 2018])"
      ]
     },
     "execution_count": 30,
     "metadata": {},
     "output_type": "execute_result"
    }
   ],
   "source": [
    "dt['Year of Graduation'].unique()"
   ]
  },
  {
   "cell_type": "markdown",
   "id": "810e4cba",
   "metadata": {},
   "source": [
    "**Split the dataset into training and testing sets**"
   ]
  },
  {
   "cell_type": "code",
   "execution_count": 31,
   "id": "6d285d43",
   "metadata": {},
   "outputs": [],
   "source": [
    "X = df.drop(columns=['Placement Status'])\n",
    "y = df['Placement Status']\n",
    "\n",
    "X_train, X_test, y_train, y_test = train_test_split(X, y, test_size=0.2, random_state=42)"
   ]
  },
  {
   "cell_type": "markdown",
   "id": "91d68156",
   "metadata": {},
   "source": [
    "**Initialize a Random Forest Classifier with a random seed for reproducibility**"
   ]
  },
  {
   "cell_type": "code",
   "execution_count": 32,
   "id": "909628ff",
   "metadata": {},
   "outputs": [
    {
     "data": {
      "text/html": [
       "<style>#sk-container-id-1 {color: black;}#sk-container-id-1 pre{padding: 0;}#sk-container-id-1 div.sk-toggleable {background-color: white;}#sk-container-id-1 label.sk-toggleable__label {cursor: pointer;display: block;width: 100%;margin-bottom: 0;padding: 0.3em;box-sizing: border-box;text-align: center;}#sk-container-id-1 label.sk-toggleable__label-arrow:before {content: \"▸\";float: left;margin-right: 0.25em;color: #696969;}#sk-container-id-1 label.sk-toggleable__label-arrow:hover:before {color: black;}#sk-container-id-1 div.sk-estimator:hover label.sk-toggleable__label-arrow:before {color: black;}#sk-container-id-1 div.sk-toggleable__content {max-height: 0;max-width: 0;overflow: hidden;text-align: left;background-color: #f0f8ff;}#sk-container-id-1 div.sk-toggleable__content pre {margin: 0.2em;color: black;border-radius: 0.25em;background-color: #f0f8ff;}#sk-container-id-1 input.sk-toggleable__control:checked~div.sk-toggleable__content {max-height: 200px;max-width: 100%;overflow: auto;}#sk-container-id-1 input.sk-toggleable__control:checked~label.sk-toggleable__label-arrow:before {content: \"▾\";}#sk-container-id-1 div.sk-estimator input.sk-toggleable__control:checked~label.sk-toggleable__label {background-color: #d4ebff;}#sk-container-id-1 div.sk-label input.sk-toggleable__control:checked~label.sk-toggleable__label {background-color: #d4ebff;}#sk-container-id-1 input.sk-hidden--visually {border: 0;clip: rect(1px 1px 1px 1px);clip: rect(1px, 1px, 1px, 1px);height: 1px;margin: -1px;overflow: hidden;padding: 0;position: absolute;width: 1px;}#sk-container-id-1 div.sk-estimator {font-family: monospace;background-color: #f0f8ff;border: 1px dotted black;border-radius: 0.25em;box-sizing: border-box;margin-bottom: 0.5em;}#sk-container-id-1 div.sk-estimator:hover {background-color: #d4ebff;}#sk-container-id-1 div.sk-parallel-item::after {content: \"\";width: 100%;border-bottom: 1px solid gray;flex-grow: 1;}#sk-container-id-1 div.sk-label:hover label.sk-toggleable__label {background-color: #d4ebff;}#sk-container-id-1 div.sk-serial::before {content: \"\";position: absolute;border-left: 1px solid gray;box-sizing: border-box;top: 0;bottom: 0;left: 50%;z-index: 0;}#sk-container-id-1 div.sk-serial {display: flex;flex-direction: column;align-items: center;background-color: white;padding-right: 0.2em;padding-left: 0.2em;position: relative;}#sk-container-id-1 div.sk-item {position: relative;z-index: 1;}#sk-container-id-1 div.sk-parallel {display: flex;align-items: stretch;justify-content: center;background-color: white;position: relative;}#sk-container-id-1 div.sk-item::before, #sk-container-id-1 div.sk-parallel-item::before {content: \"\";position: absolute;border-left: 1px solid gray;box-sizing: border-box;top: 0;bottom: 0;left: 50%;z-index: -1;}#sk-container-id-1 div.sk-parallel-item {display: flex;flex-direction: column;z-index: 1;position: relative;background-color: white;}#sk-container-id-1 div.sk-parallel-item:first-child::after {align-self: flex-end;width: 50%;}#sk-container-id-1 div.sk-parallel-item:last-child::after {align-self: flex-start;width: 50%;}#sk-container-id-1 div.sk-parallel-item:only-child::after {width: 0;}#sk-container-id-1 div.sk-dashed-wrapped {border: 1px dashed gray;margin: 0 0.4em 0.5em 0.4em;box-sizing: border-box;padding-bottom: 0.4em;background-color: white;}#sk-container-id-1 div.sk-label label {font-family: monospace;font-weight: bold;display: inline-block;line-height: 1.2em;}#sk-container-id-1 div.sk-label-container {text-align: center;}#sk-container-id-1 div.sk-container {/* jupyter's `normalize.less` sets `[hidden] { display: none; }` but bootstrap.min.css set `[hidden] { display: none !important; }` so we also need the `!important` here to be able to override the default hidden behavior on the sphinx rendered scikit-learn.org. See: https://github.com/scikit-learn/scikit-learn/issues/21755 */display: inline-block !important;position: relative;}#sk-container-id-1 div.sk-text-repr-fallback {display: none;}</style><div id=\"sk-container-id-1\" class=\"sk-top-container\"><div class=\"sk-text-repr-fallback\"><pre>RandomForestClassifier(random_state=42)</pre><b>In a Jupyter environment, please rerun this cell to show the HTML representation or trust the notebook. <br />On GitHub, the HTML representation is unable to render, please try loading this page with nbviewer.org.</b></div><div class=\"sk-container\" hidden><div class=\"sk-item\"><div class=\"sk-estimator sk-toggleable\"><input class=\"sk-toggleable__control sk-hidden--visually\" id=\"sk-estimator-id-1\" type=\"checkbox\" checked><label for=\"sk-estimator-id-1\" class=\"sk-toggleable__label sk-toggleable__label-arrow\">RandomForestClassifier</label><div class=\"sk-toggleable__content\"><pre>RandomForestClassifier(random_state=42)</pre></div></div></div></div></div>"
      ],
      "text/plain": [
       "RandomForestClassifier(random_state=42)"
      ]
     },
     "execution_count": 32,
     "metadata": {},
     "output_type": "execute_result"
    }
   ],
   "source": [
    "clf = RandomForestClassifier(random_state=42)\n",
    "clf.fit(X_train, y_train)"
   ]
  },
  {
   "cell_type": "markdown",
   "id": "948cea51",
   "metadata": {},
   "source": [
    "**Predict the target variable for the test data and calculate the accuracy of the model**"
   ]
  },
  {
   "cell_type": "code",
   "execution_count": 33,
   "id": "374dfe51",
   "metadata": {},
   "outputs": [
    {
     "name": "stdout",
     "output_type": "stream",
     "text": [
      "Accuracy: 0.6237373737373737\n"
     ]
    }
   ],
   "source": [
    "y_pred = clf.predict(X_test)\n",
    "accuracy = accuracy_score(y_test, y_pred)\n",
    "print(\"Accuracy:\", accuracy)"
   ]
  },
  {
   "cell_type": "markdown",
   "id": "c0ee09df",
   "metadata": {},
   "source": [
    "**Prepare the test data for making predictions**"
   ]
  },
  {
   "cell_type": "code",
   "execution_count": 34,
   "id": "fbdbc4ee",
   "metadata": {},
   "outputs": [],
   "source": [
    "X_test = dt.drop(columns=['Placement Status'])\n",
    "\n",
    "test_predictions = clf.predict(X_test)  "
   ]
  },
  {
   "cell_type": "code",
   "execution_count": 35,
   "id": "ea3f33c9",
   "metadata": {},
   "outputs": [
    {
     "name": "stdout",
     "output_type": "stream",
     "text": [
      "[0, 1, 2]\n"
     ]
    }
   ],
   "source": [
    "unique_values = list(set(test_predictions))\n",
    "\n",
    "print(unique_values)"
   ]
  },
  {
   "cell_type": "markdown",
   "id": "6ff9d565",
   "metadata": {},
   "source": [
    "**Update the 'Placement Status' column in the test data with the predictions**"
   ]
  },
  {
   "cell_type": "code",
   "execution_count": 36,
   "id": "000003f6",
   "metadata": {},
   "outputs": [],
   "source": [
    "dt['Placement Status'] = test_predictions"
   ]
  },
  {
   "cell_type": "code",
   "execution_count": 37,
   "id": "fa94ddfe",
   "metadata": {},
   "outputs": [
    {
     "data": {
      "text/html": [
       "<div>\n",
       "<style scoped>\n",
       "    .dataframe tbody tr th:only-of-type {\n",
       "        vertical-align: middle;\n",
       "    }\n",
       "\n",
       "    .dataframe tbody tr th {\n",
       "        vertical-align: top;\n",
       "    }\n",
       "\n",
       "    .dataframe thead th {\n",
       "        text-align: right;\n",
       "    }\n",
       "</style>\n",
       "<table border=\"1\" class=\"dataframe\">\n",
       "  <thead>\n",
       "    <tr style=\"text-align: right;\">\n",
       "      <th></th>\n",
       "      <th>Year of Graduation</th>\n",
       "      <th>CGPA</th>\n",
       "      <th>Speaking Skills</th>\n",
       "      <th>ML Knowledge</th>\n",
       "      <th>Placement Status</th>\n",
       "    </tr>\n",
       "  </thead>\n",
       "  <tbody>\n",
       "    <tr>\n",
       "      <th>0</th>\n",
       "      <td>-1</td>\n",
       "      <td>7.8</td>\n",
       "      <td>3</td>\n",
       "      <td>3</td>\n",
       "      <td>2</td>\n",
       "    </tr>\n",
       "    <tr>\n",
       "      <th>1</th>\n",
       "      <td>-1</td>\n",
       "      <td>9.1</td>\n",
       "      <td>3</td>\n",
       "      <td>3</td>\n",
       "      <td>2</td>\n",
       "    </tr>\n",
       "    <tr>\n",
       "      <th>2</th>\n",
       "      <td>-1</td>\n",
       "      <td>6.9</td>\n",
       "      <td>2</td>\n",
       "      <td>2</td>\n",
       "      <td>2</td>\n",
       "    </tr>\n",
       "    <tr>\n",
       "      <th>3</th>\n",
       "      <td>-1</td>\n",
       "      <td>8.4</td>\n",
       "      <td>4</td>\n",
       "      <td>4</td>\n",
       "      <td>2</td>\n",
       "    </tr>\n",
       "    <tr>\n",
       "      <th>4</th>\n",
       "      <td>-1</td>\n",
       "      <td>6.7</td>\n",
       "      <td>5</td>\n",
       "      <td>5</td>\n",
       "      <td>2</td>\n",
       "    </tr>\n",
       "  </tbody>\n",
       "</table>\n",
       "</div>"
      ],
      "text/plain": [
       "   Year of Graduation  CGPA  Speaking Skills  ML Knowledge  Placement Status\n",
       "0                  -1   7.8                3             3                 2\n",
       "1                  -1   9.1                3             3                 2\n",
       "2                  -1   6.9                2             2                 2\n",
       "3                  -1   8.4                4             4                 2\n",
       "4                  -1   6.7                5             5                 2"
      ]
     },
     "execution_count": 37,
     "metadata": {},
     "output_type": "execute_result"
    }
   ],
   "source": [
    "dt.head()"
   ]
  },
  {
   "cell_type": "code",
   "execution_count": 38,
   "id": "16abbe2d",
   "metadata": {},
   "outputs": [
    {
     "name": "stdout",
     "output_type": "stream",
     "text": [
      "Placement Status\n",
      "2    2112\n",
      "0     154\n",
      "1      46\n",
      "Name: count, dtype: int64\n"
     ]
    }
   ],
   "source": [
    "value_counts = dt['Placement Status'].value_counts()\n",
    "\n",
    "print(value_counts)"
   ]
  },
  {
   "cell_type": "markdown",
   "id": "a2e329e1",
   "metadata": {},
   "source": [
    "**Save the test data with predictions to an Excel file**"
   ]
  },
  {
   "cell_type": "code",
   "execution_count": 39,
   "id": "7ae840f4",
   "metadata": {},
   "outputs": [],
   "source": [
    "dt.to_excel('test_data_with_predictions.xlsx', index=False)"
   ]
  },
  {
   "cell_type": "code",
   "execution_count": null,
   "id": "6a7bffb8",
   "metadata": {},
   "outputs": [],
   "source": []
  }
 ],
 "metadata": {
  "kernelspec": {
   "display_name": "Python 3 (ipykernel)",
   "language": "python",
   "name": "python3"
  },
  "language_info": {
   "codemirror_mode": {
    "name": "ipython",
    "version": 3
   },
   "file_extension": ".py",
   "mimetype": "text/x-python",
   "name": "python",
   "nbconvert_exporter": "python",
   "pygments_lexer": "ipython3",
   "version": "3.10.7"
  }
 },
 "nbformat": 4,
 "nbformat_minor": 5
}
